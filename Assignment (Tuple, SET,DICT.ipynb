{
 "cells": [
  {
   "cell_type": "code",
   "execution_count": null,
   "id": "d3822556-82fa-4c72-9f1a-af9f5b34e0df",
   "metadata": {},
   "outputs": [],
   "source": [
    "#Q1. What are the characteristics of the tuples? Is tuple immutable?\n",
    "\n",
    " \"\"\" ANS :--\n",
    "      Some major characters of tuple is  Ordered , Immutable,Heterogeneous,Indexed,Fixed size\n",
    "      Is tuple immutable yes \"\"\"\n"
   ]
  },
  {
   "cell_type": "code",
   "execution_count": 1,
   "id": "190dfdb4-4f6a-4258-b351-4d2d567ca1a5",
   "metadata": {},
   "outputs": [],
   "source": [
    "\"\"\"Q2 What are the two tuple methods in python? Give an example of each method. Give a reason why\n",
    "tuples have only two in-built methods as compared to Lists.\"\"\"\n",
    "\n",
    "# Count :- this method returns the number of occurrences of a specific element in a tuple.\n",
    "\n",
    "tu1 = (12,23,34,45,56)"
   ]
  },
  {
   "cell_type": "code",
   "execution_count": 3,
   "id": "ae2dcc03-7af7-45d8-82cd-f6dfc8ae1260",
   "metadata": {},
   "outputs": [
    {
     "data": {
      "text/plain": [
       "1"
      ]
     },
     "execution_count": 3,
     "metadata": {},
     "output_type": "execute_result"
    }
   ],
   "source": [
    "tu1.count(34)"
   ]
  },
  {
   "cell_type": "code",
   "execution_count": 4,
   "id": "c5348487-2c57-4e8c-9501-0bc483cc116f",
   "metadata": {},
   "outputs": [
    {
     "data": {
      "text/plain": [
       "3"
      ]
     },
     "execution_count": 4,
     "metadata": {},
     "output_type": "execute_result"
    }
   ],
   "source": [
    "# Index :- This method returns the index of the first occurrence of a specific element in a tuple.\n",
    "\n",
    "\n",
    "tu1.index(45)"
   ]
  },
  {
   "cell_type": "code",
   "execution_count": null,
   "id": "e63a95a9-382e-49b8-b8e4-0fba91bd5287",
   "metadata": {},
   "outputs": [],
   "source": [
    "\"\"\"Q3. Which collection datatypes in python do not allow duplicate items? Write a code using a set to remove\n",
    "duplicates from the given list.\n",
    "List = [1, 1, 1, 2, 1, 3, 1, 4, 2, 1, 2, 2, 2, 3, 2, 4, 3, 1, 3, 2, 3, 3, 3, 4, 4, 1, 4, 2, 4, 3, 4, 4]\"\"\""
   ]
  },
  {
   "cell_type": "code",
   "execution_count": 8,
   "id": "c4a22ed5-4f0f-489f-9a8f-93ddf84983c3",
   "metadata": {},
   "outputs": [
    {
     "name": "stdout",
     "output_type": "stream",
     "text": [
      "[1, 2, 3, 4]\n"
     ]
    }
   ],
   "source": [
    "#  ANS:- Set collection datatypes in python do not allow duplicate items\n",
    "\n",
    "set1 = [1, 1, 1, 2, 1, 3, 1, 4, 2, 1, 2, 2, 2, 3, 2, 4, 3, 1, 3, 2, 3, 3, 3, 4, 4, 1, 4, 2, 4, 3, 4, 4]\n",
    "set2  = set(set1)\n",
    "print(list(set2))\n",
    "\n"
   ]
  },
  {
   "cell_type": "code",
   "execution_count": null,
   "id": "86163f04-2d81-4a35-9e5a-8c543e009328",
   "metadata": {},
   "outputs": [],
   "source": [
    "\"\"\"Q4. Explain the difference between the union() and update() methods for a set. Give an example of\n",
    "each method."
   ]
  },
  {
   "cell_type": "code",
   "execution_count": 10,
   "id": "0904e316-522d-402a-b599-07bca3381921",
   "metadata": {},
   "outputs": [
    {
     "name": "stdout",
     "output_type": "stream",
     "text": [
      "{1, 2, 3, 4, 5}\n"
     ]
    }
   ],
   "source": [
    "# ANS --The union() method returns a set that contains all the elements from both sets, without any duplicates. It does not modify the original sets.\n",
    "set1 ={1,2,3}\n",
    "set2 ={3,4,5}\n",
    "set3 = set1.union(set2)\n",
    "print(set3)"
   ]
  },
  {
   "cell_type": "code",
   "execution_count": 11,
   "id": "91b82f7b-4caa-473d-baaa-ac50cf9512b8",
   "metadata": {},
   "outputs": [
    {
     "name": "stdout",
     "output_type": "stream",
     "text": [
      "{1, 2, 3, 4, 5}\n"
     ]
    }
   ],
   "source": [
    "# The update() method modifies the original set by adding all the elements from the other set(s) to it. It does not return a new set, it updates the original set.\n",
    "\n",
    "set1.update(set2)\n",
    "print(set1)"
   ]
  },
  {
   "cell_type": "code",
   "execution_count": null,
   "id": "b2e0e471-88fd-491a-a9ef-4ec381e4b2dc",
   "metadata": {},
   "outputs": [],
   "source": [
    "\"\"\"Q5. What is a dictionary? Give an example. Also, state whether a dictionary is ordered or unordered."
   ]
  },
  {
   "cell_type": "code",
   "execution_count": 13,
   "id": "ada6bff6-c330-4ad1-b7f1-c9a255ac148b",
   "metadata": {},
   "outputs": [
    {
     "name": "stdout",
     "output_type": "stream",
     "text": [
      "{'Name': 'Thor', 'Place': 'Asgard', 'Weapon': 'Hammer', 1: 2, 3: 'power', 'alibies': ['Ironman', 'Captain America'], 'abc': {1: 2, 4: 5}}\n"
     ]
    }
   ],
   "source": [
    "#A Python dictionary consists of a key and then an associated value. That value can be almost any Python object. So a dictionary object always has elements as key-value pairs\n",
    "marvel_dict = {'Name':'Thor','Place':'Asgard','Weapon' : 'Hammer', 1:2, 3 : 'power', 'alibies' : ['Ironman','Captain America'], 'abc' : {1:2, 4:5}}\n",
    "print(marvel_dict)\n",
    "\n",
    "#A dictionary is unorderd"
   ]
  },
  {
   "cell_type": "code",
   "execution_count": null,
   "id": "c4fb2d0f-6a59-4a04-8b0e-c3a73afbff58",
   "metadata": {},
   "outputs": [],
   "source": [
    "\"\"\"Q6. Can we create a nested dictionary? If so, please give an example by creating a simple one-level\n",
    "nested dictionary."
   ]
  },
  {
   "cell_type": "code",
   "execution_count": 15,
   "id": "f613a9ad-7a08-4350-8daa-7b0b88999438",
   "metadata": {},
   "outputs": [
    {
     "name": "stdout",
     "output_type": "stream",
     "text": [
      "{'name': 'Soumya Ranjan Das', 'age': 30, 'address': {'street': 'Los Angle.', 'city': 'Clifornia', 'state': 'USA', 'zip': '94102'}}\n"
     ]
    }
   ],
   "source": [
    "##  ANS -- Yes we can create a nested dictionary\n",
    "\n",
    "student = {\n",
    "    \"name\": \"Soumya Ranjan Das\",\n",
    "    \"age\": 30,\n",
    "    \"address\": {\n",
    "        \"street\": \"Los Angle.\",\n",
    "        \"city\": \"Clifornia\",\n",
    "        \"state\": \"USA\",\n",
    "        \"zip\": \"94102\"\n",
    "    }\n",
    "}\n",
    "\n",
    "print(student)\n"
   ]
  },
  {
   "cell_type": "code",
   "execution_count": null,
   "id": "1930eb90-05fd-40c5-a6f4-d7445655e592",
   "metadata": {},
   "outputs": [],
   "source": [
    "\"\"\" Q7 Using setdefault() method, create key named topics in the given dictionary and also add the value of\n",
    "the key as this list ['Python', 'Machine Learning’, 'Deep Learning']\n",
    "dict1 = {'language' : 'Python', 'course': 'Data Science Masters'}"
   ]
  },
  {
   "cell_type": "code",
   "execution_count": 17,
   "id": "1c72417b-a5e1-4e01-89ee-1792fddafbd4",
   "metadata": {},
   "outputs": [
    {
     "name": "stdout",
     "output_type": "stream",
     "text": [
      "{'language': 'Python', 'course': 'Data Science Masters', 'topics': ['Python', 'Machine Learning', 'Deep Learning']}\n"
     ]
    }
   ],
   "source": [
    "sub1 = {'language' : 'Python', 'course': 'Data Science Masters'}\n",
    "topics = ['Python', 'Machine Learning', 'Deep Learning']\n",
    "sub1.setdefault('topics', topics)\n",
    "print(sub1)\n"
   ]
  },
  {
   "cell_type": "code",
   "execution_count": null,
   "id": "b321d3b7-8f1f-4de4-aca8-c12f23aa82ec",
   "metadata": {},
   "outputs": [],
   "source": [
    "\"\"\"Q8. What are the three view objects in dictionaries? Use the three in-built methods in python to display\n",
    "these three view objects for the given dictionary.\n",
    "dict1 = {'Sport': 'Cricket' , 'Teams': ['India', 'Australia', 'England', 'South Africa', 'Sri Lanka', 'New Zealand']}"
   ]
  },
  {
   "cell_type": "code",
   "execution_count": null,
   "id": "28ab1cbb-d9e1-4cef-be6d-0e24a4dff395",
   "metadata": {},
   "outputs": [],
   "source": [
    "# Ans --dictionaries have three view objects that provide a dynamic view of the dictionary's entries:\n",
    "\n",
    "    keys()\n",
    "    values()\n",
    "    items()"
   ]
  },
  {
   "cell_type": "code",
   "execution_count": 18,
   "id": "9a4e63f6-5227-4a68-bf95-bebec8209d31",
   "metadata": {},
   "outputs": [
    {
     "name": "stdout",
     "output_type": "stream",
     "text": [
      "The keys of the dictionary:  dict_keys(['Sport', 'Teams'])\n",
      "The values of the dictionary:  dict_values(['Cricket', ['India', 'Australia', 'England', 'South Africa', 'Sri Lanka', 'New Zealand']])\n",
      "The items of the dictionary:  dict_items([('Sport', 'Cricket'), ('Teams', ['India', 'Australia', 'England', 'South Africa', 'Sri Lanka', 'New Zealand'])])\n"
     ]
    }
   ],
   "source": [
    "d1 = {'Sport': 'Cricket' , 'Teams': ['India', 'Australia', 'England', 'South Africa', 'Sri Lanka', 'New Zealand']}\n",
    "\n",
    "# keys() method\n",
    "print(\"The keys of the dictionary: \", d1.keys())\n",
    "\n",
    "# values() method\n",
    "print(\"The values of the dictionary: \", d1.values())\n",
    "\n",
    "# items() method\n",
    "print(\"The items of the dictionary: \", d1.items())\n"
   ]
  },
  {
   "cell_type": "code",
   "execution_count": null,
   "id": "3219a6cd-3037-4c2b-880a-fc8d9dbb8793",
   "metadata": {},
   "outputs": [],
   "source": []
  }
 ],
 "metadata": {
  "kernelspec": {
   "display_name": "Python 3 (ipykernel)",
   "language": "python",
   "name": "python3"
  },
  "language_info": {
   "codemirror_mode": {
    "name": "ipython",
    "version": 3
   },
   "file_extension": ".py",
   "mimetype": "text/x-python",
   "name": "python",
   "nbconvert_exporter": "python",
   "pygments_lexer": "ipython3",
   "version": "3.10.8"
  }
 },
 "nbformat": 4,
 "nbformat_minor": 5
}
